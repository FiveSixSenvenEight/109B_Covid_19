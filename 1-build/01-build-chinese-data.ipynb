{
 "cells": [
  {
   "cell_type": "code",
   "execution_count": 1,
   "metadata": {},
   "outputs": [],
   "source": [
    "import sys\n",
    "sys.path.append('../')\n",
    "from utils import *"
   ]
  },
  {
   "cell_type": "code",
   "execution_count": 2,
   "metadata": {},
   "outputs": [],
   "source": [
    "def clean_df(df):\n",
    "    df.columns = [c.lower().strip().replace(\" \", \"_\") for c in df.columns]\n",
    "    return df"
   ]
  },
  {
   "cell_type": "code",
   "execution_count": 3,
   "metadata": {},
   "outputs": [
    {
     "name": "stdout",
     "output_type": "stream",
     "text": [
      "86\n"
     ]
    }
   ],
   "source": [
    "# Get all filenames\n",
    "province_path = data_path + 'midas_china/daily_cases_chinacdc_EN/'\n",
    "fnames = os.listdir(province_path)\n",
    "fnames = [f for f in fnames if f not in ['data_guide.csv', 'collection_metadata.csv']]\n",
    "print(len(fnames))"
   ]
  },
  {
   "cell_type": "code",
   "execution_count": 4,
   "metadata": {},
   "outputs": [],
   "source": [
    "# Create chinese_all\n",
    "col_names = clean_df(pd.read_csv(province_path+fnames[0])).columns\n",
    "df_all = pd.DataFrame(columns=col_names)\n",
    "\n",
    "for f in fnames:\n",
    "    df = pd.read_csv(province_path+f)\n",
    "    df = clean_df(df)\n",
    "    df['date'] = f[:10]\n",
    "    df_all = df_all.append(df, sort=False)"
   ]
  },
  {
   "cell_type": "code",
   "execution_count": 5,
   "metadata": {},
   "outputs": [
    {
     "name": "stdout",
     "output_type": "stream",
     "text": [
      "(2924, 8)\n"
     ]
    }
   ],
   "source": [
    "# Save chinese_all.csv\n",
    "print(df_all.shape)\n",
    "df_all.to_csv(data_path+'midas_china_mst/chinese_all.csv', index=None)"
   ]
  },
  {
   "cell_type": "code",
   "execution_count": 6,
   "metadata": {},
   "outputs": [
    {
     "name": "stdout",
     "output_type": "stream",
     "text": [
      "Number of files in by_date: 86\n",
      "Number of files in by_province: 34\n"
     ]
    }
   ],
   "source": [
    "# Save by province\n",
    "def create_unique_files_for_col(df, colname):\n",
    "    save_path = data_path+'midas_china_mst/by_' + colname + '/'\n",
    "    if not os.path.exists(save_path): \n",
    "        os.system('mkdir '+ save_path)\n",
    "        print(\"Creating path:\", save_path)\n",
    "    unique_vals = list(df[colname].unique())\n",
    "    for v in unique_vals:\n",
    "        temp = df[df[colname] == v].reset_index(drop=True)\n",
    "        fname = v.strip().lower().replace(\" \",\"_\")\n",
    "        temp.to_csv(save_path+fname+'.csv',index=None)\n",
    "    print(f\"Number of files in by_{colname}:\", len(os.listdir(save_path)))\n",
    "    \n",
    "create_unique_files_for_col(df_all, 'date')\n",
    "create_unique_files_for_col(df_all, 'province')"
   ]
  },
  {
   "cell_type": "code",
   "execution_count": null,
   "metadata": {},
   "outputs": [],
   "source": []
  }
 ],
 "metadata": {
  "kernelspec": {
   "display_name": "Python 3",
   "language": "python",
   "name": "python3"
  },
  "language_info": {
   "codemirror_mode": {
    "name": "ipython",
    "version": 3
   },
   "file_extension": ".py",
   "mimetype": "text/x-python",
   "name": "python",
   "nbconvert_exporter": "python",
   "pygments_lexer": "ipython3",
   "version": "3.6.7"
  }
 },
 "nbformat": 4,
 "nbformat_minor": 2
}
