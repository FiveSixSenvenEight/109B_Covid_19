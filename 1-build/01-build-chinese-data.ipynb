{
 "cells": [
  {
   "cell_type": "code",
   "execution_count": 1,
   "metadata": {},
   "outputs": [],
   "source": [
    "import sys\n",
    "sys.path.append('../')\n",
    "from utils import *"
   ]
  },
  {
   "cell_type": "code",
   "execution_count": 2,
   "metadata": {},
   "outputs": [],
   "source": [
    "weekday_dict = {0:'Mon', 1:'Tues', 2:'Wed', 3:'Thur', 4:'Fri', 5:'Sat', 6:'Sun'}\n",
    "month_dict = {1:'Jan', 2:'Feb', 3:'Mar', 4:'April'}\n",
    "def clean_df(df):\n",
    "    df.columns = [c.lower().strip().replace(\" \", \"_\") for c in df.columns]\n",
    "    return df"
   ]
  },
  {
   "cell_type": "code",
   "execution_count": 3,
   "metadata": {},
   "outputs": [
    {
     "name": "stdout",
     "output_type": "stream",
     "text": [
      "86\n"
     ]
    }
   ],
   "source": [
    "# Get all filenames\n",
    "province_path = data_path + 'midas_china/daily_cases_chinacdc_EN/'\n",
    "fnames = os.listdir(province_path)\n",
    "fnames = [f for f in fnames if f not in ['data_guide.csv', 'collection_metadata.csv']]\n",
    "print(len(fnames))"
   ]
  },
  {
   "cell_type": "code",
   "execution_count": 4,
   "metadata": {},
   "outputs": [
    {
     "name": "stdout",
     "output_type": "stream",
     "text": [
      "(2924, 11)\n"
     ]
    }
   ],
   "source": [
    "# Create chinese_all\n",
    "col_names = clean_df(pd.read_csv(province_path+fnames[0])).columns\n",
    "df_all = pd.DataFrame(columns=col_names)\n",
    "\n",
    "for f in fnames:\n",
    "    df = pd.read_csv(province_path+f)\n",
    "    df = clean_df(df)\n",
    "    df['date'] = f[:10]\n",
    "    df['date'] = pd.to_datetime(df['date'])\n",
    "    df['month'] = df['date'].apply(lambda x: x.month).map(month_dict)\n",
    "    df['day'] = df['date'].apply(lambda x: x.day)\n",
    "    df['weekday'] = df['date'].apply(lambda x: x.weekday()).map(weekday_dict)\n",
    "    df['date'] = df['date'].astype(str)\n",
    "    df_all = df_all.append(df, sort=False)\n",
    "    \n",
    "# Save chinese_all.csv\n",
    "data_cols = ['add_suspect', 'cumulative_suspect', 'new_diagnosis', 'cumulative_diagnosis', 'added_death', 'cumulative_death']\n",
    "for c in data_cols:\n",
    "    df_all[c] = df_all[c].astype(int)\n",
    "\n",
    "print(df_all.shape)\n",
    "df_all.to_csv(data_path+'midas_china_mst/chinese_all.csv', index=None)"
   ]
  },
  {
   "cell_type": "code",
   "execution_count": 5,
   "metadata": {},
   "outputs": [
    {
     "name": "stdout",
     "output_type": "stream",
     "text": [
      "(86, 10)\n"
     ]
    }
   ],
   "source": [
    "# Build and save chinese_by_date\n",
    "df_date = df_all.groupby('date').sum().reset_index().drop(['day'],1)\n",
    "df_date = pd.merge(df_date, df_all[['date', 'month','day','weekday']].drop_duplicates(), on = 'date', how = 'inner')\n",
    "print(df_date.shape)\n",
    "df_date.to_csv(data_path+'midas_china_mst/chinese_by_date.csv', index=None)"
   ]
  },
  {
   "cell_type": "code",
   "execution_count": null,
   "metadata": {},
   "outputs": [],
   "source": [
    "# Build and save province by_province, by_date\n",
    "def create_unique_files_for_col(df, colname):\n",
    "    save_path = data_path+'midas_china_mst/by_' + colname + '/'\n",
    "    if not os.path.exists(save_path): \n",
    "        os.system('mkdir '+ save_path)\n",
    "        print(\"Creating path:\", save_path)\n",
    "    unique_vals = list(df[colname].unique())\n",
    "    for v in unique_vals:\n",
    "        temp = df[df[colname] == v]\n",
    "        temp = temp.sort_values('date').reset_index(drop=True)\n",
    "        fname = v.strip().lower().replace(\" \",\"_\")\n",
    "        temp.to_csv(save_path+fname+'.csv',index=None)\n",
    "    print(f\"Number of files in by_{colname}:\", len(os.listdir(save_path)))\n",
    "    \n",
    "create_unique_files_for_col(df_all, 'date')\n",
    "create_unique_files_for_col(df_all, 'province')"
   ]
  }
 ],
 "metadata": {
  "kernelspec": {
   "display_name": "Python 3",
   "language": "python",
   "name": "python3"
  },
  "language_info": {
   "codemirror_mode": {
    "name": "ipython",
    "version": 3
   },
   "file_extension": ".py",
   "mimetype": "text/x-python",
   "name": "python",
   "nbconvert_exporter": "python",
   "pygments_lexer": "ipython3",
   "version": "3.6.7"
  }
 },
 "nbformat": 4,
 "nbformat_minor": 2
}
